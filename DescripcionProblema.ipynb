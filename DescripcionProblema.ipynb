{
 "cells": [
  {
   "cell_type": "markdown",
   "metadata": {},
   "source": [
    "## Preguntas \n",
    "\n",
    "Qué tan posible es clasificar las características de las células de la sangre para detectar cierto tipo de leucemia con imágenes que contienen dichas células, por medio de entrenamiento de redes neuronales?\n",
    "\n",
    "Después de la clasificación de las células con leucemia y sin leucemia, se puede detectar el tipo de leucemia que porta dichas células detectando sus características únicas haciendo un aprendizaje más profundo?\n",
    "\n"
   ]
  },
  {
   "cell_type": "markdown",
   "metadata": {},
   "source": [
    "## Descripción del problema.\n",
    "\n",
    "Los médicos quieren dar mejores diagnósticos de leucemia, ya que esta es una enfermedad que ataca a los tejidos de la sangre y a la medula ósea, se conoce como cáncer en la sangre. Existen varios tipos de leucemia, donde algunos actúan rápido y otros no tanto. Si esta enfermedad es detectada a tiempo se puede hacer un tratamiento adecuado. Existen otras alternativas de hacer un análisis en la sangre para saber a tiempo si las personas tienen dicha enfermedad.\n",
    "\n",
    "Una de las alternativas es el avance tecnológico con el aprendizaje no supervisado de máquinas. Con los avances de la tecnología se pueden desarrollas muchas aplicaciones que ayuden a los pacientes, en este caso a los pacientes que posiblemente tengan leucemia y poder hacer un tratamiento a tiempo y adecuado.\n",
    "\n",
    "Con este desarrollo se ayudaría a muchas familias de Colombia, ya que es donde se quiere resolver dicho problema, dando le oportunidad de vencer el cáncer a tiempo."
   ]
  },
  {
   "cell_type": "markdown",
   "metadata": {},
   "source": [
    "## Referencias\n",
    "\n",
    "    https://ieeexplore.ieee.org/document/8962211/authors#authors\n",
    "    https://onlinelibrary.wiley.com/doi/abs/10.1002/jemt.23139\n",
    "    https://www.sciencedirect.com/science/article/abs/pii/S0952197618301039#\n",
    "    https://link.springer.com/chapter/10.1007/978-3-319-65981-7_12\n"
   ]
  },
  {
   "cell_type": "markdown",
   "metadata": {},
   "source": []
  }
 ],
 "metadata": {
  "kernelspec": {
   "display_name": "Python 3",
   "language": "python",
   "name": "python3"
  },
  "language_info": {
   "codemirror_mode": {
    "name": "ipython",
    "version": 3
   },
   "file_extension": ".py",
   "mimetype": "text/x-python",
   "name": "python",
   "nbconvert_exporter": "python",
   "pygments_lexer": "ipython3",
   "version": "3.7.1"
  }
 },
 "nbformat": 4,
 "nbformat_minor": 2
}
